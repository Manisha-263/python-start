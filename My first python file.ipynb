{
 "cells": [
  {
   "cell_type": "code",
   "execution_count": 55,
   "id": "342ea626-e180-4704-a4ca-f43e6ed09786",
   "metadata": {},
   "outputs": [
    {
     "name": "stdout",
     "output_type": "stream",
     "text": [
      "Hello python world!\n"
     ]
    }
   ],
   "source": [
    "#variables, strings and simple data types.\n",
    "message = \"Hello python world!\"\n",
    "print(message)"
   ]
  },
  {
   "cell_type": "code",
   "execution_count": 57,
   "id": "6ccb11da-9a84-4aa5-810c-35791f9961d5",
   "metadata": {},
   "outputs": [
    {
     "name": "stdout",
     "output_type": "stream",
     "text": [
      "Hello python crash course world!\n"
     ]
    }
   ],
   "source": [
    "messege = \"Hello python crash course world!\"\n",
    "print(messege)\n"
   ]
  },
  {
   "cell_type": "code",
   "execution_count": 9,
   "id": "05e46006-cdff-480f-98e5-2e80fc1e234e",
   "metadata": {},
   "outputs": [
    {
     "name": "stdout",
     "output_type": "stream",
     "text": [
      "Hello python crash course reader!\n"
     ]
    }
   ],
   "source": [
    "mesage = \"Hello python crash course reader!\"\n",
    "print(mesage)"
   ]
  },
  {
   "cell_type": "code",
   "execution_count": 13,
   "id": "6e0b31f6-25e2-4184-9793-b69f39dc8ad3",
   "metadata": {},
   "outputs": [
    {
     "name": "stdout",
     "output_type": "stream",
     "text": [
      "Muhammad Ali\n"
     ]
    }
   ],
   "source": [
    "name = \"muhammad ali\"\n",
    "print(name.title())"
   ]
  },
  {
   "cell_type": "code",
   "execution_count": 15,
   "id": "286ae111-cfdb-4bec-b1fe-f39a90c8664d",
   "metadata": {},
   "outputs": [
    {
     "name": "stdout",
     "output_type": "stream",
     "text": [
      "Muhammad Ali\n"
     ]
    }
   ],
   "source": [
    "name = 'muhammad ali'\n",
    "print(name.title())"
   ]
  },
  {
   "cell_type": "code",
   "execution_count": 19,
   "id": "5bdec9ae-3c45-4c3d-a42a-6330094e73df",
   "metadata": {},
   "outputs": [
    {
     "name": "stdout",
     "output_type": "stream",
     "text": [
      "MUHAMMAD ALI\n",
      "muhammad ali\n"
     ]
    }
   ],
   "source": [
    "name = \"Muhammad Ali\"\n",
    "print(name.upper())\n",
    "print(name.lower())"
   ]
  },
  {
   "cell_type": "code",
   "execution_count": 39,
   "id": "f1ab791c-6004-4004-bcaf-8b44803e0d62",
   "metadata": {},
   "outputs": [
    {
     "name": "stdout",
     "output_type": "stream",
     "text": [
      " Muhammad Ali\n"
     ]
    }
   ],
   "source": [
    "first_name = \" Muhammad \"\n",
    "last_name = \"Ali\"\n",
    "full_name = f\"{first_name}{last_name}\"\n",
    "print(full_name)"
   ]
  },
  {
   "cell_type": "code",
   "execution_count": 43,
   "id": "438ffe98-f4ed-481e-9b85-3c7407478d92",
   "metadata": {},
   "outputs": [
    {
     "name": "stdout",
     "output_type": "stream",
     "text": [
      "Hello,Muhammad Ali!\n"
     ]
    }
   ],
   "source": [
    "first_name = \"muhammad\"\n",
    "last_name = \"ali\"\n",
    "full_name = f\"{first_name} {last_name}\"\n",
    "print(f\"Hello,{full_name.title()}!\")"
   ]
  },
  {
   "cell_type": "code",
   "execution_count": 45,
   "id": "7cf664bd-aef9-4762-a5d5-f6b79fd9b7b4",
   "metadata": {},
   "outputs": [
    {
     "name": "stdout",
     "output_type": "stream",
     "text": [
      "\tpython\n"
     ]
    }
   ],
   "source": [
    "print(\"\\tpython\")"
   ]
  },
  {
   "cell_type": "code",
   "execution_count": 49,
   "id": "6fa0112d-13aa-4ecf-a023-4b871ff53009",
   "metadata": {},
   "outputs": [
    {
     "name": "stdout",
     "output_type": "stream",
     "text": [
      "languages:\n",
      "python\n",
      "c\n",
      "javascript\n"
     ]
    }
   ],
   "source": [
    "print(\"languages:\\npython\\nc\\njavascript\")"
   ]
  },
  {
   "cell_type": "code",
   "execution_count": 51,
   "id": "5cf48606-d976-4aaa-8616-6eeff7e67043",
   "metadata": {},
   "outputs": [
    {
     "name": "stdout",
     "output_type": "stream",
     "text": [
      "python \n"
     ]
    }
   ],
   "source": [
    "favourite_language = 'python '\n",
    "print(favourite_language)"
   ]
  },
  {
   "cell_type": "code",
   "execution_count": 53,
   "id": "0be8eea2-050f-4e07-8465-33a3902ed6b9",
   "metadata": {},
   "outputs": [
    {
     "data": {
      "text/plain": [
       "'python '"
      ]
     },
     "execution_count": 53,
     "metadata": {},
     "output_type": "execute_result"
    }
   ],
   "source": [
    "favourite_language ='python '\n",
    "favourite_language"
   ]
  },
  {
   "cell_type": "code",
   "execution_count": 63,
   "id": "cbcfd592-582a-497a-9e45-0502912a52da",
   "metadata": {},
   "outputs": [
    {
     "data": {
      "text/plain": [
       "'Manisha'"
      ]
     },
     "execution_count": 63,
     "metadata": {},
     "output_type": "execute_result"
    }
   ],
   "source": [
    "#like we can do that'\n",
    "message = 'Manisha'\n",
    "message"
   ]
  },
  {
   "cell_type": "code",
   "execution_count": 65,
   "id": "162b9a27-9645-470b-a5fa-32dabacf3ee9",
   "metadata": {},
   "outputs": [
    {
     "data": {
      "text/plain": [
       "'python'"
      ]
     },
     "execution_count": 65,
     "metadata": {},
     "output_type": "execute_result"
    }
   ],
   "source": [
    "favourite_language = 'python '\n",
    "favourite_language.rstrip()"
   ]
  },
  {
   "cell_type": "code",
   "execution_count": 69,
   "id": "e740a69c-1f12-4717-afe0-046e78dbf0f7",
   "metadata": {},
   "outputs": [
    {
     "data": {
      "text/plain": [
       "'nostarch.com'"
      ]
     },
     "execution_count": 69,
     "metadata": {},
     "output_type": "execute_result"
    }
   ],
   "source": [
    "nostarch_url = \"http://nostarch.com\"\n",
    "nostarch_url.removeprefix('http://') "
   ]
  },
  {
   "cell_type": "code",
   "execution_count": 71,
   "id": "92e5f86f-8961-4783-923a-08a539ed4739",
   "metadata": {},
   "outputs": [
    {
     "ename": "SyntaxError",
     "evalue": "unterminated string literal (detected at line 1) (520769147.py, line 1)",
     "output_type": "error",
     "traceback": [
      "\u001b[1;36m  Cell \u001b[1;32mIn[71], line 1\u001b[1;36m\u001b[0m\n\u001b[1;33m    message = 'one of python's book'\u001b[0m\n\u001b[1;37m                                   ^\u001b[0m\n\u001b[1;31mSyntaxError\u001b[0m\u001b[1;31m:\u001b[0m unterminated string literal (detected at line 1)\n"
     ]
    }
   ],
   "source": [
    "#we cannot use same qouts at a time\n",
    "message = 'one of python's book'\n",
    "print(message)"
   ]
  },
  {
   "cell_type": "code",
   "execution_count": 73,
   "id": "cdcdb91b-c74d-431a-b28d-9dfaa4daddb3",
   "metadata": {},
   "outputs": [
    {
     "name": "stdout",
     "output_type": "stream",
     "text": [
      "one of \"python\" book\n"
     ]
    }
   ],
   "source": [
    "message = 'one of \"python\" book'\n",
    "print(message)"
   ]
  },
  {
   "cell_type": "code",
   "execution_count": 75,
   "id": "4d3d4f0a-28c2-46ea-959c-ff4bfb48b4b7",
   "metadata": {},
   "outputs": [
    {
     "name": "stdout",
     "output_type": "stream",
     "text": [
      "one of python's book\n"
     ]
    }
   ],
   "source": [
    "message = \"one of python's book\"\n",
    "print(message)"
   ]
  },
  {
   "cell_type": "code",
   "execution_count": 77,
   "id": "e88b044b-c094-48c1-a9a1-966c6113004f",
   "metadata": {},
   "outputs": [
    {
     "name": "stdout",
     "output_type": "stream",
     "text": [
      "one of 'python' book\n"
     ]
    }
   ],
   "source": [
    "message = \"one of 'python' book\"\n",
    "print(message)"
   ]
  },
  {
   "cell_type": "code",
   "execution_count": 79,
   "id": "d5ad312d-c4d0-4b99-8e78-2983d6b9aed4",
   "metadata": {},
   "outputs": [
    {
     "name": "stdout",
     "output_type": "stream",
     "text": [
      "one of 'python's' book\n"
     ]
    }
   ],
   "source": [
    "message = \"one of 'python's' book\"\n",
    "print(message)"
   ]
  },
  {
   "cell_type": "code",
   "execution_count": 97,
   "id": "32fdd2a9-0deb-49e5-a357-82a9007dee94",
   "metadata": {},
   "outputs": [
    {
     "data": {
      "text/plain": [
       "5"
      ]
     },
     "execution_count": 97,
     "metadata": {},
     "output_type": "execute_result"
    }
   ],
   "source": [
    "#integers:\n",
    "#Add\n",
    "2+3"
   ]
  },
  {
   "cell_type": "code",
   "execution_count": 83,
   "id": "9aaa46b1-4b07-4d82-ac29-c6d16436a435",
   "metadata": {},
   "outputs": [
    {
     "data": {
      "text/plain": [
       "1"
      ]
     },
     "execution_count": 83,
     "metadata": {},
     "output_type": "execute_result"
    }
   ],
   "source": [
    "#Sub\n",
    "3-2"
   ]
  },
  {
   "cell_type": "code",
   "execution_count": 85,
   "id": "d4f38dc6-5e66-4974-a44d-2cf5cc901fb1",
   "metadata": {},
   "outputs": [
    {
     "data": {
      "text/plain": [
       "20"
      ]
     },
     "execution_count": 85,
     "metadata": {},
     "output_type": "execute_result"
    }
   ],
   "source": [
    "#Mul\n",
    "4*5"
   ]
  },
  {
   "cell_type": "code",
   "execution_count": 87,
   "id": "d440ab65-88b3-4381-a443-bb59f4bee11a",
   "metadata": {},
   "outputs": [
    {
     "data": {
      "text/plain": [
       "3.0"
      ]
     },
     "execution_count": 87,
     "metadata": {},
     "output_type": "execute_result"
    }
   ],
   "source": [
    "#Div\n",
    "6/2"
   ]
  },
  {
   "cell_type": "code",
   "execution_count": 89,
   "id": "3672a49c-83ac-4d15-9ecc-15ff57e7795b",
   "metadata": {},
   "outputs": [
    {
     "data": {
      "text/plain": [
       "9"
      ]
     },
     "execution_count": 89,
     "metadata": {},
     "output_type": "execute_result"
    }
   ],
   "source": [
    "#Double**means 3 in two times like 3*3\n",
    "3**2"
   ]
  },
  {
   "cell_type": "code",
   "execution_count": 91,
   "id": "3104991f-bdae-4e7f-afe4-42ebfb7ecc2c",
   "metadata": {},
   "outputs": [
    {
     "data": {
      "text/plain": [
       "27"
      ]
     },
     "execution_count": 91,
     "metadata": {},
     "output_type": "execute_result"
    }
   ],
   "source": [
    "# 3 in 3 times\n",
    "3**3"
   ]
  },
  {
   "cell_type": "code",
   "execution_count": 93,
   "id": "805922d5-6f92-494d-8ed5-98ce40501a18",
   "metadata": {},
   "outputs": [
    {
     "data": {
      "text/plain": [
       "14"
      ]
     },
     "execution_count": 93,
     "metadata": {},
     "output_type": "execute_result"
    }
   ],
   "source": [
    "#Bodmas rule\n",
    "2+3*4"
   ]
  },
  {
   "cell_type": "code",
   "execution_count": 95,
   "id": "6d12280c-26c2-469a-a204-6dbb56b8c865",
   "metadata": {},
   "outputs": [
    {
     "data": {
      "text/plain": [
       "20"
      ]
     },
     "execution_count": 95,
     "metadata": {},
     "output_type": "execute_result"
    }
   ],
   "source": [
    "# bracket change its behavior first solve brackrt\n",
    "(2+3)*4"
   ]
  },
  {
   "cell_type": "code",
   "execution_count": 99,
   "id": "8bc16795-7d1b-4ae4-bf2f-847274758b4a",
   "metadata": {},
   "outputs": [
    {
     "data": {
      "text/plain": [
       "0.2"
      ]
     },
     "execution_count": 99,
     "metadata": {},
     "output_type": "execute_result"
    }
   ],
   "source": [
    "#Float:\n",
    "0.1+0.1"
   ]
  },
  {
   "cell_type": "code",
   "execution_count": 101,
   "id": "6e5ae2e0-2bb1-4bd5-971f-7a1e79041e84",
   "metadata": {},
   "outputs": [
    {
     "data": {
      "text/plain": [
       "0.2"
      ]
     },
     "execution_count": 101,
     "metadata": {},
     "output_type": "execute_result"
    }
   ],
   "source": [
    "2*0.1"
   ]
  },
  {
   "cell_type": "code",
   "execution_count": 103,
   "id": "b6f43c61-3f13-4387-8611-e7fe35e23751",
   "metadata": {},
   "outputs": [
    {
     "data": {
      "text/plain": [
       "2.0"
      ]
     },
     "execution_count": 103,
     "metadata": {},
     "output_type": "execute_result"
    }
   ],
   "source": [
    "4/2"
   ]
  },
  {
   "cell_type": "code",
   "execution_count": 109,
   "id": "464dd8a1-e1eb-49ce-8379-8d08009f1eca",
   "metadata": {},
   "outputs": [
    {
     "data": {
      "text/plain": [
       "4.0"
      ]
     },
     "execution_count": 109,
     "metadata": {},
     "output_type": "execute_result"
    }
   ],
   "source": [
    "2+2.0"
   ]
  },
  {
   "cell_type": "code",
   "execution_count": 107,
   "id": "a742456c-306a-49e0-a0cc-fde2407220ec",
   "metadata": {},
   "outputs": [
    {
     "data": {
      "text/plain": [
       "0.2"
      ]
     },
     "execution_count": 107,
     "metadata": {},
     "output_type": "execute_result"
    }
   ],
   "source": [
    "1*0.2"
   ]
  },
  {
   "cell_type": "code",
   "execution_count": 111,
   "id": "2744909b-e5c8-409d-b752-3093d8ebc552",
   "metadata": {},
   "outputs": [
    {
     "data": {
      "text/plain": [
       "32.0"
      ]
     },
     "execution_count": 111,
     "metadata": {},
     "output_type": "execute_result"
    }
   ],
   "source": [
    "4*8.0"
   ]
  },
  {
   "cell_type": "code",
   "execution_count": 113,
   "id": "dd6b6757-cc2f-4a2c-b4ba-e942bc6d785a",
   "metadata": {},
   "outputs": [
    {
     "data": {
      "text/plain": [
       "6.0"
      ]
     },
     "execution_count": 113,
     "metadata": {},
     "output_type": "execute_result"
    }
   ],
   "source": [
    "3*2.0"
   ]
  },
  {
   "cell_type": "code",
   "execution_count": 115,
   "id": "115a26f0-0ae5-494c-b5c6-77bf683b19a1",
   "metadata": {},
   "outputs": [
    {
     "name": "stdout",
     "output_type": "stream",
     "text": [
      "14000000000\n"
     ]
    }
   ],
   "source": [
    "#underscore in numbers\n",
    "universe_age = 14_000_000_000\n",
    "print(universe_age)"
   ]
  },
  {
   "cell_type": "code",
   "execution_count": 117,
   "id": "6dc61ab9-86d9-4e86-8b3b-bdf27498ae43",
   "metadata": {},
   "outputs": [],
   "source": [
    "#multiple assignment\n",
    "x,y,z = 1,2,3"
   ]
  },
  {
   "cell_type": "code",
   "execution_count": 119,
   "id": "94598c66-ad12-41aa-8056-6d701bf91e1f",
   "metadata": {},
   "outputs": [],
   "source": [
    "#constant in capital\n",
    "MAX_CONNECTIONS = 5000"
   ]
  },
  {
   "cell_type": "code",
   "execution_count": 121,
   "id": "24127835-3a07-4dc6-a5aa-3a2472cfd8da",
   "metadata": {},
   "outputs": [
    {
     "name": "stdout",
     "output_type": "stream",
     "text": [
      "True\n",
      "False\n"
     ]
    }
   ],
   "source": [
    "editable = True\n",
    "game_active = False\n",
    "print(editable)\n",
    "print(game_active)"
   ]
  },
  {
   "cell_type": "code",
   "execution_count": 125,
   "id": "cdf79bc7-529b-4095-b05a-e62743949d08",
   "metadata": {},
   "outputs": [
    {
     "name": "stdout",
     "output_type": "stream",
     "text": [
      "the real part of number is: 2.0\n",
      "the imaginary part of number: 3.0\n"
     ]
    }
   ],
   "source": [
    "#complex numbers \n",
    "z = 2+3j\n",
    "print(\"the real part of number is:\",z.real)\n",
    "print(\"the imaginary part of number:\",z.imag)"
   ]
  },
  {
   "cell_type": "code",
   "execution_count": 127,
   "id": "1cce1b14-5985-43b3-baf5-516c8b04a26c",
   "metadata": {},
   "outputs": [
    {
     "name": "stdout",
     "output_type": "stream",
     "text": [
      "<class 'int'> <class 'float'> <class 'str'> <class 'bool'>\n"
     ]
    }
   ],
   "source": [
    "#data types\n",
    "intdata = 4\n",
    "floatdata = 4.0\n",
    "stringdata = 'abc'\n",
    "booleandata = True\n",
    "print(type(intdata),type(floatdata),type(stringdata),type(booleandata))"
   ]
  },
  {
   "cell_type": "code",
   "execution_count": 129,
   "id": "43a34b5d-8db2-43da-978b-78891012bf1d",
   "metadata": {},
   "outputs": [
    {
     "name": "stdout",
     "output_type": "stream",
     "text": [
      "Hello\n"
     ]
    }
   ],
   "source": [
    "#this is a comment.\n",
    "print(\"Hello\")"
   ]
  },
  {
   "cell_type": "code",
   "execution_count": 131,
   "id": "2bb808e6-5159-44cd-984b-db200417b075",
   "metadata": {},
   "outputs": [
    {
     "name": "stdout",
     "output_type": "stream",
     "text": [
      "hello\n"
     ]
    }
   ],
   "source": [
    "#this is a multiline comment\n",
    "'this is singleline comment'\n",
    "print('hello')"
   ]
  },
  {
   "cell_type": "code",
   "execution_count": 139,
   "id": "88bdb42f-d39d-4139-815b-e679192db59d",
   "metadata": {},
   "outputs": [
    {
     "name": "stdout",
     "output_type": "stream",
     "text": [
      "hello\n"
     ]
    }
   ],
   "source": [
    "\n",
    "#muitiline comment \n",
    "#comments don't impact in program\n",
    "print(\"hello\")\n"
   ]
  },
  {
   "cell_type": "code",
   "execution_count": 137,
   "id": "12689180-7ea7-4505-8a50-b0a405e31d5c",
   "metadata": {},
   "outputs": [
    {
     "name": "stdout",
     "output_type": "stream",
     "text": [
      "Hello\n"
     ]
    }
   ],
   "source": [
    "'''this is multiline comment'''\n",
    "print(\"Hello\")"
   ]
  },
  {
   "cell_type": "code",
   "execution_count": null,
   "id": "125ce939-506f-4ca6-af17-fff25becc16c",
   "metadata": {},
   "outputs": [],
   "source": []
  }
 ],
 "metadata": {
  "kernelspec": {
   "display_name": "Python 3 (ipykernel)",
   "language": "python",
   "name": "python3"
  },
  "language_info": {
   "codemirror_mode": {
    "name": "ipython",
    "version": 3
   },
   "file_extension": ".py",
   "mimetype": "text/x-python",
   "name": "python",
   "nbconvert_exporter": "python",
   "pygments_lexer": "ipython3",
   "version": "3.12.4"
  }
 },
 "nbformat": 4,
 "nbformat_minor": 5
}
